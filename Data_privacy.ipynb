{
  "nbformat": 4,
  "nbformat_minor": 0,
  "metadata": {
    "colab": {
      "provenance": [],
      "gpuType": "A100"
    },
    "kernelspec": {
      "name": "python3",
      "display_name": "Python 3"
    },
    "language_info": {
      "name": "python"
    },
    "accelerator": "GPU"
  },
  "cells": [
    {
      "cell_type": "code",
      "execution_count": null,
      "metadata": {
        "id": "Y0mnBql3uJKh"
      },
      "outputs": [],
      "source": [
        "import pandas as pd\n",
        "import numpy as np\n",
        "from sklearn.preprocessing import StandardScaler\n",
        "from sklearn.metrics.pairwise import cosine_similarity\n",
        "from sklearn.metrics import accuracy_score\n",
        "from tqdm import tqdm"
      ]
    },
    {
      "cell_type": "code",
      "source": [
        "original_df = pd.read_csv('/content/drive/MyDrive/data/data-challenge-original.csv')\n",
        "protected_df = pd.read_csv('/content/drive/MyDrive/data/protected_data_challenge.csv')"
      ],
      "metadata": {
        "id": "9wfwX6IgwcGj"
      },
      "execution_count": null,
      "outputs": []
    },
    {
      "cell_type": "code",
      "source": [
        "print(\"Original:\", original_df.shape)\n",
        "print(\"Protected:\", protected_df.shape)\n",
        "print(original_df.head())"
      ],
      "metadata": {
        "colab": {
          "base_uri": "https://localhost:8080/"
        },
        "id": "-IdAmfoFwd1e",
        "outputId": "9be569df-de0d-4ac5-8c8e-482196cffdfb"
      },
      "execution_count": null,
      "outputs": [
        {
          "output_type": "stream",
          "name": "stdout",
          "text": [
            "Original: (20000, 18)\n",
            "Protected: (20000, 18)\n",
            "   Identifier              Name  Age     Occupation City_Tier  Dependents  \\\n",
            "0           0       Gopal Palla   49  Self_Employed    Tier_1           0   \n",
            "1           1      Pranav Nanda   34        Retired    Tier_2           2   \n",
            "2           2  Neelima Sengupta   35        Student    Tier_3           1   \n",
            "3           3     Balendra Babu   21  Self_Employed    Tier_3           0   \n",
            "4           4      Anamika Char   52   Professional    Tier_2           4   \n",
            "\n",
            "      Income      Rent  Loan_Repayment  Insurance  Groceries  Transport  \\\n",
            "0   44637.25  13391.17            0.00    2206.49    6658.77    2636.97   \n",
            "1   26858.60   5371.72            0.00     869.52    2818.44    1543.02   \n",
            "2   50367.61   7555.14         4612.10    2201.80    6313.22    3221.40   \n",
            "3  101455.60  15218.34         6809.44    4889.42   14690.15    7106.13   \n",
            "4   24875.28   4975.06         3112.61     635.91    3034.33    1276.16   \n",
            "\n",
            "   Eating_Out  Entertainment  Utilities  Healthcare  Education  Miscellaneous  \n",
            "0     1651.80        1536.18    2911.79     1546.91       0.00         831.53  \n",
            "1      649.38        1050.24    1626.14     1137.35    1551.72         564.24  \n",
            "2     1513.81        1723.31    3368.46     2178.52    3160.03         628.37  \n",
            "3     5040.25        2858.19    6128.55     4571.12       0.00        2526.06  \n",
            "4      692.83         660.19    1092.69     1169.10    1445.22         515.51  \n"
          ]
        }
      ]
    },
    {
      "cell_type": "markdown",
      "source": [
        "# **PROCESS 1(COSINE SIMILARITY)**"
      ],
      "metadata": {
        "id": "fn2u48B6HCxC"
      }
    },
    {
      "cell_type": "code",
      "source": [
        "drop_cols = ['Name', 'Identifier', 'Occupation', 'City_Tier']\n",
        "original_features = original_df.drop(columns=drop_cols, errors='ignore')\n",
        "protected_features = protected_df.drop(columns=drop_cols, errors='ignore')"
      ],
      "metadata": {
        "id": "SzRY2Swawd3p"
      },
      "execution_count": null,
      "outputs": []
    },
    {
      "cell_type": "code",
      "source": [
        "scaler = StandardScaler()\n",
        "original_scaled = scaler.fit_transform(original_features)\n",
        "protected_scaled = scaler.transform(protected_features)"
      ],
      "metadata": {
        "id": "v8I4oMd2wd6I"
      },
      "execution_count": null,
      "outputs": []
    },
    {
      "cell_type": "code",
      "source": [
        "# Step 5: Compute Cosine Similarity\n",
        "similarity_matrix = cosine_similarity(protected_scaled, original_scaled)"
      ],
      "metadata": {
        "id": "9ySvDgUWwd8Z"
      },
      "execution_count": null,
      "outputs": []
    },
    {
      "cell_type": "code",
      "source": [
        "# Step 6: Get Best Matches\n",
        "predicted_indices = similarity_matrix.argmax(axis=1)"
      ],
      "metadata": {
        "id": "X1wKXFrzwd-a"
      },
      "execution_count": null,
      "outputs": []
    },
    {
      "cell_type": "code",
      "source": [
        "# Step 7: Save Matching Results\n",
        "protected_df.to_csv(\"match_results_cosine.csv\", index=False)\n",
        "print(\"Match results saved to match_results_cosine.csv\")"
      ],
      "metadata": {
        "colab": {
          "base_uri": "https://localhost:8080/"
        },
        "id": "ab6QzsvhweCj",
        "outputId": "0caddc78-c692-4b01-9d5f-5f99838c0203"
      },
      "execution_count": null,
      "outputs": [
        {
          "output_type": "stream",
          "name": "stdout",
          "text": [
            "Match results saved to match_results_cosine.csv\n"
          ]
        }
      ]
    },
    {
      "cell_type": "code",
      "source": [],
      "metadata": {
        "id": "ff1Vvqj91Y8H"
      },
      "execution_count": null,
      "outputs": []
    },
    {
      "cell_type": "markdown",
      "source": [
        "# **PROCESS 2(BATCH MATCH)**"
      ],
      "metadata": {
        "id": "wNye1JIfHKrE"
      }
    },
    {
      "cell_type": "markdown",
      "source": [
        "*Memory Efficient Matching*"
      ],
      "metadata": {
        "id": "UGpf2ZV1rZNc"
      }
    },
    {
      "cell_type": "code",
      "source": [
        "import pandas as pd\n",
        "import numpy as np\n",
        "from sklearn.preprocessing import StandardScaler\n",
        "from sklearn.decomposition import PCA\n",
        "from scipy.spatial.distance import cdist\n",
        "\n",
        "\n",
        "original_df = pd.read_csv(\"/content/drive/MyDrive/data/data-challenge-original.csv\")\n",
        "protected_df = pd.read_csv(\"/content/drive/MyDrive/data/protected_data_challenge.csv\")\n",
        "\n",
        "exclude_cols = ['Name', 'Identifier']\n",
        "common_cols = list(set(original_df.columns).intersection(set(protected_df.columns)))\n",
        "numeric_cols = [col for col in common_cols if col not in exclude_cols and np.issubdtype(original_df[col].dtype, np.number)]\n",
        "\n",
        "# Step 3: Feature Weighting\n",
        "feature_weights = {\n",
        "    'Income': 2.0, 'Groceries': 1.8, 'Rent': 1.5,\n",
        "    'Loan_Repayment': 1.5, 'Insurance': 1.3,\n",
        "    'Age': 1.0, 'Occupation': 1.0, 'City_Tier': 1.0,\n",
        "    'Dependents': 1.0\n",
        "}\n",
        "weights = np.array([feature_weights.get(col, 1.0) for col in numeric_cols])\n",
        "\n",
        "# Step 4: Standardization + Weighting\n",
        "scaler = StandardScaler()\n",
        "original_scaled = scaler.fit_transform(original_df[numeric_cols])\n",
        "protected_scaled = scaler.transform(protected_df[numeric_cols])\n",
        "original_weighted = original_scaled * weights\n",
        "protected_weighted = protected_scaled * weights\n",
        "\n",
        "# Step 5: Dimensionality Reduction using PCA\n",
        "pca = PCA(n_components=0.95)\n",
        "original_pca = pca.fit_transform(original_weighted)\n",
        "protected_pca = pca.transform(protected_weighted)\n",
        "\n",
        "# Step 6: Efficient Matching in Batches\n",
        "def batched_matching(protected_data, original_data, batch_size=1000):\n",
        "    matched_indices = []\n",
        "    for i in range(0, protected_data.shape[0], batch_size):\n",
        "        batch = protected_data[i:i+batch_size]\n",
        "        dists = cdist(batch, original_data, metric='euclidean')\n",
        "        batch_indices = np.argmin(dists, axis=1)\n",
        "        matched_indices.extend(batch_indices)\n",
        "    return matched_indices\n",
        "\n",
        "matched_indices = batched_matching(protected_pca, original_pca)\n",
        "\n",
        "# Step 7: Reconstruct Matched DataFrame\n",
        "protected_df['Matched_Index'] = matched_indices\n",
        "matched_original_rows = original_df.iloc[matched_indices].reset_index(drop=True)\n",
        "match_results = pd.concat([protected_df.reset_index(drop=True), matched_original_rows.add_prefix(\"Original_\")], axis=1)\n",
        "\n",
        "# Step 8: Save Final Results\n",
        "match_results.to_csv(\"match_results.csv\", index=False)\n",
        "print(\"Matching complete. Results saved in match_results.csv.\")\n",
        "\n"
      ],
      "metadata": {
        "colab": {
          "base_uri": "https://localhost:8080/"
        },
        "id": "KBK1QgqLCFPg",
        "outputId": "c25a89ad-527d-4a8e-8852-b8c22b6450ee"
      },
      "execution_count": 1,
      "outputs": [
        {
          "output_type": "stream",
          "name": "stdout",
          "text": [
            "Matching complete. Results saved in match_results.csv.\n"
          ]
        }
      ]
    },
    {
      "cell_type": "code",
      "source": [],
      "metadata": {
        "id": "ldUKLjw7yUJD"
      },
      "execution_count": null,
      "outputs": []
    },
    {
      "cell_type": "code",
      "source": [],
      "metadata": {
        "id": "BeNYGWfd6vFf"
      },
      "execution_count": null,
      "outputs": []
    },
    {
      "cell_type": "markdown",
      "source": [
        "# *DECODING THE NAME AND IDENTIFIER*"
      ],
      "metadata": {
        "id": "NYigdzV66vel"
      }
    },
    {
      "cell_type": "markdown",
      "source": [
        "# **PROCESS 3 DECODING (similarity matrix using Euclidean distance)**"
      ],
      "metadata": {
        "id": "KTlmberSyVVL"
      }
    },
    {
      "cell_type": "code",
      "source": [
        "import pandas as pd\n",
        "import numpy as np\n",
        "from sklearn.preprocessing import StandardScaler\n",
        "from tqdm import tqdm\n",
        "\n",
        "\n",
        "original_df = pd.read_csv(\"/content/drive/MyDrive/data/data-challenge-original.csv\")\n",
        "protected_df = pd.read_csv(\"/content/drive/MyDrive/data/protected_data_challenge.csv\")\n",
        "\n",
        "features = ['Age', 'Dependents', 'Income',\n",
        "            'Rent', 'Loan_Repayment', 'Insurance', 'Groceries']\n",
        "\n",
        "scaler = StandardScaler()\n",
        "original_scaled = scaler.fit_transform(original_df[features])\n",
        "protected_scaled = scaler.transform(protected_df[features])\n",
        "\n",
        "# Create a similarity matrix using Euclidean distance\n",
        "from scipy.spatial.distance import cdist\n",
        "distances = cdist(protected_scaled, original_scaled, metric='euclidean')\n",
        "\n",
        "matches = distances.argmin(axis=1)\n",
        "\n",
        "decoded_df = protected_df.copy()\n",
        "decoded_df['Decoded_Name'] = original_df.loc[matches, 'Name'].values\n",
        "decoded_df['Decoded_Identifier'] = original_df.loc[matches, 'Identifier'].values\n",
        "\n",
        "decoded_df.to_csv(\"decoded_data.csv\", index=False)"
      ],
      "metadata": {
        "id": "g1eJnecmyUFs"
      },
      "execution_count": null,
      "outputs": []
    },
    {
      "cell_type": "code",
      "source": [],
      "metadata": {
        "id": "qjfIDC7C4gkQ"
      },
      "execution_count": null,
      "outputs": []
    },
    {
      "cell_type": "markdown",
      "source": [
        "# **Process 4 by matching each row to the most similar row**"
      ],
      "metadata": {
        "id": "M_MIzLlnz9_X"
      }
    },
    {
      "cell_type": "code",
      "source": [
        "import pandas as pd\n",
        "from sklearn.preprocessing import StandardScaler, OneHotEncoder\n",
        "from sklearn.compose import ColumnTransformer\n",
        "from sklearn.pipeline import Pipeline\n",
        "from scipy.spatial.distance import cdist\n",
        "import numpy as np\n",
        "\n",
        "original_df = pd.read_csv(\"/content/drive/MyDrive/data/data-challenge-original.csv\")\n",
        "protected_df = pd.read_csv(\"/content/drive/MyDrive/data/protected_data_challenge.csv\")\n",
        "\n",
        "print(original_df.head())\n",
        "print(protected_df.head())\n",
        "\n",
        "matching_columns = [\n",
        "    'Age', 'Occupation', 'City_Tier', 'Dependents',\n",
        "    'Income', 'Rent', 'Loan_Repayment', 'Insurance', 'Groceries'\n",
        "]\n",
        "\n",
        "numeric_features = ['Age', 'Income', 'Rent', 'Loan_Repayment', 'Insurance', 'Groceries']\n",
        "categorical_features = ['Occupation', 'City_Tier', 'Dependents']\n",
        "\n",
        "# Create preprocessor\n",
        "preprocessor = ColumnTransformer(\n",
        "    transformers=[\n",
        "        ('num', StandardScaler(), numeric_features),\n",
        "        ('cat', OneHotEncoder(handle_unknown='ignore'), categorical_features)\n",
        "    ]\n",
        ")\n",
        "\n",
        "# Fit on original, transform both datasets\n",
        "original_features = preprocessor.fit_transform(original_df[matching_columns])\n",
        "protected_features = preprocessor.transform(protected_df[matching_columns])\n",
        "\n",
        "# Calculate pairwise distances\n",
        "distances = cdist(protected_features, original_features, metric='euclidean')\n",
        "\n",
        "# Find best match for each protected record\n",
        "best_match_indices = distances.argmin(axis=1)\n",
        "best_match_scores = distances.min(axis=1)  # distance (lower = better match)\n",
        "\n",
        "# Add decoded information\n",
        "decoded_df = protected_df.copy()\n",
        "decoded_df['Decoded_Name'] = original_df.loc[best_match_indices, 'Name'].values\n",
        "decoded_df['Decoded_Identifier'] = original_df.loc[best_match_indices, 'Identifier'].values\n",
        "decoded_df['Matching_Score'] = best_match_scores"
      ],
      "metadata": {
        "colab": {
          "base_uri": "https://localhost:8080/"
        },
        "id": "1GUdpDq8yUDo",
        "outputId": "d826442d-e775-4cab-f894-ae1b690bbda2"
      },
      "execution_count": null,
      "outputs": [
        {
          "output_type": "stream",
          "name": "stdout",
          "text": [
            "   Identifier              Name  Age     Occupation City_Tier  Dependents  \\\n",
            "0           0       Gopal Palla   49  Self_Employed    Tier_1           0   \n",
            "1           1      Pranav Nanda   34        Retired    Tier_2           2   \n",
            "2           2  Neelima Sengupta   35        Student    Tier_3           1   \n",
            "3           3     Balendra Babu   21  Self_Employed    Tier_3           0   \n",
            "4           4      Anamika Char   52   Professional    Tier_2           4   \n",
            "\n",
            "      Income      Rent  Loan_Repayment  Insurance  Groceries  Transport  \\\n",
            "0   44637.25  13391.17            0.00    2206.49    6658.77    2636.97   \n",
            "1   26858.60   5371.72            0.00     869.52    2818.44    1543.02   \n",
            "2   50367.61   7555.14         4612.10    2201.80    6313.22    3221.40   \n",
            "3  101455.60  15218.34         6809.44    4889.42   14690.15    7106.13   \n",
            "4   24875.28   4975.06         3112.61     635.91    3034.33    1276.16   \n",
            "\n",
            "   Eating_Out  Entertainment  Utilities  Healthcare  Education  Miscellaneous  \n",
            "0     1651.80        1536.18    2911.79     1546.91       0.00         831.53  \n",
            "1      649.38        1050.24    1626.14     1137.35    1551.72         564.24  \n",
            "2     1513.81        1723.31    3368.46     2178.52    3160.03         628.37  \n",
            "3     5040.25        2858.19    6128.55     4571.12       0.00        2526.06  \n",
            "4      692.83         660.19    1092.69     1169.10    1445.22         515.51  \n",
            "                         Identifier                              Name  Age  \\\n",
            "0  bb0fe6d06cc153b8635440fd3638b589  c8b4c30e6fcdbaa4e0d1c3db732cb222   23   \n",
            "1  9f8921b372a89bdb616b822e3137e87d  afdff0db61720290465c6e30ac45ba92   48   \n",
            "2  6b8de0031bb7c14e2d4a9305c5c50b23  2b379af688ea4197b678316f376d1764   30   \n",
            "3  51693f158b2adacfc664eecc6681caa2  76fb68f64365f4c4d4ae96e208a3550c   37   \n",
            "4  3f37d5d38725084a3f9fc2e3324a5132  6bdce18db7dad925adcba8f31fe46c6b   22   \n",
            "\n",
            "      Occupation City_Tier  Dependents    Income     Rent  Loan_Repayment  \\\n",
            "0        Retired    Tier_2           3  25166.00  5065.18            0.22   \n",
            "1  Self_Employed    Tier_2           0  21709.45  4313.33            1.66   \n",
            "2        Retired    Tier_2           2  40669.25  8160.43         4471.97   \n",
            "3        Retired    Tier_2           3  34369.50  6747.60         2469.81   \n",
            "4        Student    Tier_2           1  28979.79  5809.44            4.36   \n",
            "\n",
            "   Insurance  Groceries  Transport  Eating_Out  Entertainment  Utilities  \\\n",
            "0     568.09    3126.91    2002.14      757.03         815.29    1940.71   \n",
            "1     468.73    2534.51    1457.48      814.66         947.51    1045.55   \n",
            "2    1201.45    6021.28    2998.56     1275.74        1737.36    2732.39   \n",
            "3    1298.66    4881.52    1691.44     1324.01        1509.83    2297.28   \n",
            "4     695.69    3500.11    2165.89      597.55        1034.45    2193.08   \n",
            "\n",
            "   Healthcare  Education  Miscellaneous  \n",
            "0      938.04    1986.18         485.90  \n",
            "1      757.98    1449.22         377.18  \n",
            "2     1699.98    2335.79         616.21  \n",
            "3     1335.21    2824.56         859.47  \n",
            "4     1254.94    1733.76         367.69  \n"
          ]
        }
      ]
    },
    {
      "cell_type": "code",
      "source": [
        "#VISUALIZATION\n",
        "\n",
        "import matplotlib.pyplot as plt\n",
        "import seaborn as sns\n",
        "\n",
        "plt.figure(figsize=(10,6))\n",
        "sns.histplot(decoded_df['Matching_Score'], bins=50, kde=True, color='skyblue')\n",
        "plt.title('Distribution of Matching Scores (lower = better)')\n",
        "plt.xlabel('Matching Score')\n",
        "plt.ylabel('Frequency')\n",
        "plt.grid(True)\n",
        "plt.show()"
      ],
      "metadata": {
        "colab": {
          "base_uri": "https://localhost:8080/",
          "height": 564
        },
        "id": "9ZAJENlWyUBS",
        "outputId": "c3fabe6d-c911-4ee6-fd1e-2f5107c32cfa"
      },
      "execution_count": null,
      "outputs": [
        {
          "output_type": "display_data",
          "data": {
            "text/plain": [
              "<Figure size 1000x600 with 1 Axes>"
            ],
            "image/png": "[encoded data removed]"
          },
          "metadata": {}
        }
      ]
    },
    {
      "cell_type": "code",
      "source": [
        "decoded_df.to_csv(\"decoded_data_p4(matching_score).csv\", index=False)\n",
        "print(\"Decoded data saved successfully!\")"
      ],
      "metadata": {
        "colab": {
          "base_uri": "https://localhost:8080/"
        },
        "id": "ZSXkLp4DyT_h",
        "outputId": "fdbcaaae-f110-40a6-b49d-7c7a9bb7c75b"
      },
      "execution_count": null,
      "outputs": [
        {
          "output_type": "stream",
          "name": "stdout",
          "text": [
            "Decoded data saved successfully!\n"
          ]
        }
      ]
    },
    {
      "cell_type": "code",
      "source": [],
      "metadata": {
        "id": "CmBYL1jN43GM"
      },
      "execution_count": null,
      "outputs": []
    },
    {
      "cell_type": "markdown",
      "source": [
        "# **Process 5 Fuzzyy Matching (with Feature Weights)**"
      ],
      "metadata": {
        "id": "IBF1kMyv1kHc"
      }
    },
    {
      "cell_type": "code",
      "source": [
        "feature_weights = {\n",
        "    'Age': 1.0,\n",
        "    'Income': 2.0,\n",
        "    'Rent': 1.2,\n",
        "    'Loan_Repayment': 1.5,\n",
        "    'Insurance': 0.5,\n",
        "    'Groceries': 1.0,\n",
        "    'Occupation': 1.5,\n",
        "    'City_Tier': 1.0,\n",
        "    'Dependents': 1.2\n",
        "}"
      ],
      "metadata": {
        "id": "yWgOKhgKyT9L"
      },
      "execution_count": null,
      "outputs": []
    },
    {
      "cell_type": "code",
      "source": [
        "#Custom Weighted Distance Function\n",
        "\n",
        "from sklearn.preprocessing import StandardScaler, OneHotEncoder\n",
        "from sklearn.compose import ColumnTransformer\n",
        "from sklearn.pipeline import Pipeline\n",
        "from scipy.spatial.distance import cdist\n",
        "import numpy as np\n",
        "\n",
        "numeric_features = ['Age', 'Income', 'Rent', 'Loan_Repayment', 'Insurance', 'Groceries']\n",
        "categorical_features = ['Occupation', 'City_Tier', 'Dependents']\n",
        "\n",
        "# Combine for weighting\n",
        "all_features_order = numeric_features + categorical_features\n",
        "\n",
        "preprocessor = ColumnTransformer([\n",
        "    ('num', StandardScaler(), numeric_features),\n",
        "    ('cat', OneHotEncoder(handle_unknown='ignore'), categorical_features)\n",
        "])\n",
        "\n",
        "# Transform\n",
        "original_transformed = preprocessor.fit_transform(original_df[all_features_order])\n",
        "protected_transformed = preprocessor.transform(protected_df[all_features_order])\n",
        "\n",
        "# Get feature names after encoding using Transformer\n",
        "encoded_feature_names = (\n",
        "    preprocessor.named_transformers_['num'].get_feature_names_out(numeric_features).tolist() +\n",
        "    preprocessor.named_transformers_['cat'].get_feature_names_out(categorical_features).tolist()\n",
        ")\n",
        "\n",
        "weights_array = np.array([\n",
        "    feature_weights.get(feat.split('_')[0], 1.0)\n",
        "    if '_' in feat else feature_weights.get(feat, 1.0)\n",
        "    for feat in encoded_feature_names\n",
        "])\n",
        "\n",
        "# Apply weights\n",
        "original_weighted = original_transformed * weights_array\n",
        "protected_weighted = protected_transformed * weights_array\n",
        "\n",
        "distances = cdist(protected_weighted, original_weighted, metric='euclidean')\n",
        "best_match_indices = distances.argmin(axis=1)\n",
        "best_match_scores = distances.min(axis=1)\n",
        "\n",
        "decoded_df = protected_df.copy()\n",
        "decoded_df['Decoded_Name'] = original_df.loc[best_match_indices, 'Name'].values\n",
        "decoded_df['Decoded_Identifier'] = original_df.loc[best_match_indices, 'Identifier'].values\n",
        "decoded_df['Weighted_Matching_Score'] = best_match_scores\n",
        "\n",
        "decoded_df.to_csv(\"decoded_weighted_output_p5.csv\", index=False)\n"
      ],
      "metadata": {
        "id": "Bv5CQtq2yT60"
      },
      "execution_count": null,
      "outputs": []
    },
    {
      "cell_type": "markdown",
      "source": [
        "# **Add Top-3 Candidate Matching**"
      ],
      "metadata": {
        "id": "7nEXZuBP3A2O"
      }
    },
    {
      "cell_type": "code",
      "source": [
        "# Get indices of Top-3 matches for each protected row\n",
        "top_3_indices = np.argsort(distances, axis=1)[:, :3]  # shape: (n_rows, 3)\n",
        "\n",
        "# Get matching scores for top 3\n",
        "top_3_scores = np.sort(distances, axis=1)[:, :3]"
      ],
      "metadata": {
        "id": "btpNxUQYyT40"
      },
      "execution_count": null,
      "outputs": []
    },
    {
      "cell_type": "code",
      "source": [
        "top_matches = []\n",
        "\n",
        "for i in range(len(protected_df)):\n",
        "    row_matches = {\n",
        "        'Protected_Index': i,\n",
        "        'Top1_Name': original_df.loc[top_3_indices[i, 0], 'Name'],\n",
        "        'Top1_Identifier': original_df.loc[top_3_indices[i, 0], 'Identifier'],\n",
        "        'Top1_Score': top_3_scores[i, 0],\n",
        "\n",
        "        'Top2_Name': original_df.loc[top_3_indices[i, 1], 'Name'],\n",
        "        'Top2_Identifier': original_df.loc[top_3_indices[i, 1], 'Identifier'],\n",
        "        'Top2_Score': top_3_scores[i, 1],\n",
        "\n",
        "        'Top3_Name': original_df.loc[top_3_indices[i, 2], 'Name'],\n",
        "        'Top3_Identifier': original_df.loc[top_3_indices[i, 2], 'Identifier'],\n",
        "        'Top3_Score': top_3_scores[i, 2],\n",
        "    }\n",
        "    top_matches.append(row_matches)\n",
        "\n",
        "top_matches_df = pd.DataFrame(top_matches)"
      ],
      "metadata": {
        "id": "FJwlPufCyT2a"
      },
      "execution_count": null,
      "outputs": []
    },
    {
      "cell_type": "code",
      "source": [
        "# Add encrypted fields from protected_df to top_matches_df\n",
        "result_df = pd.concat([protected_df.reset_index(drop=True), top_matches_df.drop(columns='Protected_Index')], axis=1)\n",
        "\n",
        "# Save full Top-3 output\n",
        "result_df.to_csv(\"top3_decoded_matches.csv\", index=False)\n",
        "print(\"Top-3 candidate decoding saved as 'top3_decoded_matches.csv'\")"
      ],
      "metadata": {
        "colab": {
          "base_uri": "https://localhost:8080/"
        },
        "id": "NbGbqji-ztn0",
        "outputId": "0d98f6be-3e56-4aca-bd4d-1918206fec1b"
      },
      "execution_count": null,
      "outputs": [
        {
          "output_type": "stream",
          "name": "stdout",
          "text": [
            "Top-3 candidate decoding saved as 'top3_decoded_matches.csv'\n"
          ]
        }
      ]
    },
    {
      "cell_type": "code",
      "source": [],
      "metadata": {
        "id": "TpisXQWLztmB"
      },
      "execution_count": null,
      "outputs": []
    },
    {
      "cell_type": "code",
      "source": [
        "import pandas as pd\n",
        "process_4=pd.read_csv('/content/decoded_data_p4(matching_score).csv')\n",
        "process_5=pd.read_csv('/content/decoded_weighted_output_p5.csv')\n",
        "\n",
        "process_4['Weighted_Matching_Score'] = process_5['Weighted_Matching_Score']\n",
        "process_4.to_csv('final_decoded_data.csv', index=False)"
      ],
      "metadata": {
        "id": "FIi9HcZUztjq"
      },
      "execution_count": 3,
      "outputs": []
    },
    {
      "cell_type": "code",
      "source": [],
      "metadata": {
        "id": "peGRUh2ezthP"
      },
      "execution_count": null,
      "outputs": []
    }
  ]
}